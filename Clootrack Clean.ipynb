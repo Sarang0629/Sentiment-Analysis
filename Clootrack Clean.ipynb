{
 "cells": [
  {
   "cell_type": "code",
   "execution_count": 1,
   "id": "e1369847",
   "metadata": {},
   "outputs": [],
   "source": [
    "import pandas as pd\n",
    "import matplotlib.pyplot as plt\n",
    "%matplotlib inline\n",
    "import seaborn as sns\n",
    "import nltk\n",
    "import re\n",
    "from nltk.corpus import stopwords\n",
    "from nltk.stem import WordNetLemmatizer\n",
    "from vaderSentiment.vaderSentiment import SentimentIntensityAnalyzer\n",
    "from nltk.sentiment import SentimentIntensityAnalyzer\n",
    "from tqdm.notebook import tqdm\n",
    "from wordcloud import WordCloud\n",
    "from tabulate import tabulate"
   ]
  },
  {
   "cell_type": "code",
   "execution_count": 2,
   "id": "2d66f0ae",
   "metadata": {},
   "outputs": [],
   "source": [
    "df = pd.read_csv(\"C:/Users/ASUS/Desktop/Data Analyst - Test Data - US.csv\")"
   ]
  },
  {
   "cell_type": "code",
   "execution_count": 3,
   "id": "26745c09",
   "metadata": {},
   "outputs": [
    {
     "data": {
      "text/plain": [
       "Review        55\n",
       "date           0\n",
       "Location    4737\n",
       "ID             0\n",
       "dtype: int64"
      ]
     },
     "execution_count": 3,
     "metadata": {},
     "output_type": "execute_result"
    }
   ],
   "source": [
    "df.isnull().sum()"
   ]
  },
  {
   "cell_type": "code",
   "execution_count": 4,
   "id": "b2e83d70",
   "metadata": {},
   "outputs": [],
   "source": [
    "df = df.reset_index(drop=True)"
   ]
  },
  {
   "cell_type": "code",
   "execution_count": 5,
   "id": "7e0039c5",
   "metadata": {},
   "outputs": [],
   "source": [
    "df.to_csv('2')"
   ]
  },
  {
   "cell_type": "code",
   "execution_count": 6,
   "id": "4efe9be0",
   "metadata": {},
   "outputs": [],
   "source": [
    "df = pd.read_csv(\"C:/Users/ASUS/Desktop/2.csv\")"
   ]
  },
  {
   "cell_type": "code",
   "execution_count": 7,
   "id": "4e85627e",
   "metadata": {},
   "outputs": [
    {
     "data": {
      "text/html": [
       "<div>\n",
       "<style scoped>\n",
       "    .dataframe tbody tr th:only-of-type {\n",
       "        vertical-align: middle;\n",
       "    }\n",
       "\n",
       "    .dataframe tbody tr th {\n",
       "        vertical-align: top;\n",
       "    }\n",
       "\n",
       "    .dataframe thead th {\n",
       "        text-align: right;\n",
       "    }\n",
       "</style>\n",
       "<table border=\"1\" class=\"dataframe\">\n",
       "  <thead>\n",
       "    <tr style=\"text-align: right;\">\n",
       "      <th></th>\n",
       "      <th>ID</th>\n",
       "      <th>Review</th>\n",
       "      <th>date</th>\n",
       "      <th>Location</th>\n",
       "      <th>Corpus</th>\n",
       "    </tr>\n",
       "  </thead>\n",
       "  <tbody>\n",
       "    <tr>\n",
       "      <th>0</th>\n",
       "      <td>1</td>\n",
       "      <td>I was very impressed with the resort.\\n Great ...</td>\n",
       "      <td>19-Aug</td>\n",
       "      <td>Sebastian</td>\n",
       "      <td>impressed resort great staff main resort pool ...</td>\n",
       "    </tr>\n",
       "    <tr>\n",
       "      <th>1</th>\n",
       "      <td>2</td>\n",
       "      <td>The rooms were nice the outside needs work als...</td>\n",
       "      <td>19-Aug</td>\n",
       "      <td>Los Angeles</td>\n",
       "      <td>room nice outside need work also free breakfas...</td>\n",
       "    </tr>\n",
       "    <tr>\n",
       "      <th>2</th>\n",
       "      <td>3</td>\n",
       "      <td>Great location! I have stayed at this hotel on...</td>\n",
       "      <td>19-Aug</td>\n",
       "      <td>Georgia</td>\n",
       "      <td>great location stayed hotel last three trip ne...</td>\n",
       "    </tr>\n",
       "    <tr>\n",
       "      <th>3</th>\n",
       "      <td>4</td>\n",
       "      <td>Great location, room was large and spacious. P...</td>\n",
       "      <td>19-Aug</td>\n",
       "      <td>Palm Harbor</td>\n",
       "      <td>great location room large spacious parking eas...</td>\n",
       "    </tr>\n",
       "    <tr>\n",
       "      <th>4</th>\n",
       "      <td>5</td>\n",
       "      <td>Very clean and friendly and I love the locatio...</td>\n",
       "      <td>19-Aug</td>\n",
       "      <td>California</td>\n",
       "      <td>clean friendly love location restaurant inside...</td>\n",
       "    </tr>\n",
       "    <tr>\n",
       "      <th>...</th>\n",
       "      <td>...</td>\n",
       "      <td>...</td>\n",
       "      <td>...</td>\n",
       "      <td>...</td>\n",
       "      <td>...</td>\n",
       "    </tr>\n",
       "    <tr>\n",
       "      <th>1700</th>\n",
       "      <td>1701</td>\n",
       "      <td>·the staff were all so friendly. frank, the ch...</td>\n",
       "      <td>19-Jul</td>\n",
       "      <td>United States of America</td>\n",
       "      <td>staff friendly frank chef buffet bar top meeti...</td>\n",
       "    </tr>\n",
       "    <tr>\n",
       "      <th>1701</th>\n",
       "      <td>1702</td>\n",
       "      <td>·the internet barely worked or didn't work</td>\n",
       "      <td>19-Jul</td>\n",
       "      <td>United States of America</td>\n",
       "      <td>internet barely worked work</td>\n",
       "    </tr>\n",
       "    <tr>\n",
       "      <th>1702</th>\n",
       "      <td>1703</td>\n",
       "      <td>·the location was great.\\n \\n \\n \\n \\n ·the be...</td>\n",
       "      <td>19-Jul</td>\n",
       "      <td>United States of America</td>\n",
       "      <td>location great bed uncomfortable bed ever</td>\n",
       "    </tr>\n",
       "    <tr>\n",
       "      <th>1703</th>\n",
       "      <td>1704</td>\n",
       "      <td>·we were early for check in and the staff was ...</td>\n",
       "      <td>19-Jul</td>\n",
       "      <td>United States of America</td>\n",
       "      <td>early check staff accommodating able check sev...</td>\n",
       "    </tr>\n",
       "    <tr>\n",
       "      <th>1704</th>\n",
       "      <td>1705</td>\n",
       "      <td>·staff, free coffee, location and activities.\\...</td>\n",
       "      <td>19-Jul</td>\n",
       "      <td>United States of America</td>\n",
       "      <td>staff free coffee location activity bed smalle...</td>\n",
       "    </tr>\n",
       "  </tbody>\n",
       "</table>\n",
       "<p>1705 rows × 5 columns</p>\n",
       "</div>"
      ],
      "text/plain": [
       "        ID                                             Review    date  \\\n",
       "0        1  I was very impressed with the resort.\\n Great ...  19-Aug   \n",
       "1        2  The rooms were nice the outside needs work als...  19-Aug   \n",
       "2        3  Great location! I have stayed at this hotel on...  19-Aug   \n",
       "3        4  Great location, room was large and spacious. P...  19-Aug   \n",
       "4        5  Very clean and friendly and I love the locatio...  19-Aug   \n",
       "...    ...                                                ...     ...   \n",
       "1700  1701  ·the staff were all so friendly. frank, the ch...  19-Jul   \n",
       "1701  1702         ·the internet barely worked or didn't work  19-Jul   \n",
       "1702  1703  ·the location was great.\\n \\n \\n \\n \\n ·the be...  19-Jul   \n",
       "1703  1704  ·we were early for check in and the staff was ...  19-Jul   \n",
       "1704  1705  ·staff, free coffee, location and activities.\\...  19-Jul   \n",
       "\n",
       "                      Location  \\\n",
       "0                    Sebastian   \n",
       "1                  Los Angeles   \n",
       "2                      Georgia   \n",
       "3                  Palm Harbor   \n",
       "4                   California   \n",
       "...                        ...   \n",
       "1700  United States of America   \n",
       "1701  United States of America   \n",
       "1702  United States of America   \n",
       "1703  United States of America   \n",
       "1704  United States of America   \n",
       "\n",
       "                                                 Corpus  \n",
       "0     impressed resort great staff main resort pool ...  \n",
       "1     room nice outside need work also free breakfas...  \n",
       "2     great location stayed hotel last three trip ne...  \n",
       "3     great location room large spacious parking eas...  \n",
       "4     clean friendly love location restaurant inside...  \n",
       "...                                                 ...  \n",
       "1700  staff friendly frank chef buffet bar top meeti...  \n",
       "1701                        internet barely worked work  \n",
       "1702          location great bed uncomfortable bed ever  \n",
       "1703  early check staff accommodating able check sev...  \n",
       "1704  staff free coffee location activity bed smalle...  \n",
       "\n",
       "[1705 rows x 5 columns]"
      ]
     },
     "execution_count": 7,
     "metadata": {},
     "output_type": "execute_result"
    }
   ],
   "source": [
    "df"
   ]
  },
  {
   "cell_type": "code",
   "execution_count": 8,
   "id": "0a21b99e",
   "metadata": {},
   "outputs": [],
   "source": [
    "lemmatizer = WordNetLemmatizer()\n",
    "corpus = []\n",
    "for i in range(0, len(df)):\n",
    "    reviews = re.sub(r'[^a-zA-Z]', ' ', str(df['Review'][i]))\n",
    "    reviews = reviews.lower()\n",
    "    reviews = reviews.split()\n",
    "    \n",
    "    reviews= [lemmatizer.lemmatize(word) for word in reviews if not word in set(stopwords.words('english'))]\n",
    "    reviews = ' '.join(reviews)\n",
    "    corpus.append(reviews)"
   ]
  },
  {
   "cell_type": "code",
   "execution_count": 9,
   "id": "85f1f051",
   "metadata": {},
   "outputs": [],
   "source": [
    "df['Corpus'] = corpus"
   ]
  },
  {
   "cell_type": "code",
   "execution_count": 10,
   "id": "97dfba38",
   "metadata": {},
   "outputs": [
    {
     "data": {
      "application/vnd.jupyter.widget-view+json": {
       "model_id": "d2ce411eeac54f4e9d790324dce9daf4",
       "version_major": 2,
       "version_minor": 0
      },
      "text/plain": [
       "  0%|          | 0/1705 [00:00<?, ?it/s]"
      ]
     },
     "metadata": {},
     "output_type": "display_data"
    }
   ],
   "source": [
    "sia = SentimentIntensityAnalyzer()\n",
    "res = {}\n",
    "for i, row in tqdm(df.iterrows(), total=len(df)):\n",
    "    Review = row['ID']\n",
    "    Corpus = row['Corpus']\n",
    "    res[Review] = sia.polarity_scores(Corpus)"
   ]
  },
  {
   "cell_type": "code",
   "execution_count": 11,
   "id": "fa214c62",
   "metadata": {},
   "outputs": [],
   "source": [
    "vaders = pd.DataFrame(res).T"
   ]
  },
  {
   "cell_type": "code",
   "execution_count": 12,
   "id": "b94a3fcb",
   "metadata": {},
   "outputs": [],
   "source": [
    "vaders = vaders.reset_index().rename(columns = {'index':'ID'})"
   ]
  },
  {
   "cell_type": "code",
   "execution_count": 13,
   "id": "ffb26fb0",
   "metadata": {},
   "outputs": [],
   "source": [
    "vaders =vaders.merge(df, how = 'left')"
   ]
  },
  {
   "cell_type": "code",
   "execution_count": 14,
   "id": "8b907756",
   "metadata": {},
   "outputs": [],
   "source": [
    "date_wise = vaders['date'].value_counts()"
   ]
  },
  {
   "cell_type": "code",
   "execution_count": 15,
   "id": "bb1227ca",
   "metadata": {},
   "outputs": [
    {
     "data": {
      "text/plain": [
       "19-Jul    231\n",
       "18-Oct    186\n",
       "18-Nov    154\n",
       "19-Aug    153\n",
       "18-Sep    150\n",
       "19-Apr    135\n",
       "19-Mar    130\n",
       "18-Aug    123\n",
       "18-Dec    113\n",
       "19-May    108\n",
       "19-Jan    100\n",
       "19-Feb     66\n",
       "19-Jun     56\n",
       "Name: date, dtype: int64"
      ]
     },
     "execution_count": 15,
     "metadata": {},
     "output_type": "execute_result"
    }
   ],
   "source": [
    "date_wise"
   ]
  },
  {
   "cell_type": "code",
   "execution_count": 16,
   "id": "26e51d13",
   "metadata": {},
   "outputs": [
    {
     "data": {
      "text/plain": [
       "Text(0.5, 1.0, 'Reviews Posted Monthly')"
      ]
     },
     "execution_count": 16,
     "metadata": {},
     "output_type": "execute_result"
    },
    {
     "data": {
      "image/png": "[encoded data removed]",
      "text/plain": [
       "<Figure size 2016x360 with 1 Axes>"
      ]
     },
     "metadata": {
      "needs_background": "light"
     },
     "output_type": "display_data"
    }
   ],
   "source": [
    "plt.figure(figsize=(28,5))\n",
    "sns.countplot(x=\"date\", data=vaders,palette='inferno')\n",
    "plt.rcParams.update({'font.size':10})\n",
    "plt.xticks(rotation = 0)\n",
    "plt.title('Reviews Posted Monthly')\n"
   ]
  },
  {
   "cell_type": "code",
   "execution_count": 17,
   "id": "bfca8d7a",
   "metadata": {},
   "outputs": [],
   "source": [
    "vaders.rename(columns = {'neg':'Negative', 'neu':'Neutral', 'pos' : 'Positive'}, inplace = True)"
   ]
  },
  {
   "cell_type": "code",
   "execution_count": 18,
   "id": "cfcb500b",
   "metadata": {},
   "outputs": [
    {
     "data": {
      "text/html": [
       "<div>\n",
       "<style scoped>\n",
       "    .dataframe tbody tr th:only-of-type {\n",
       "        vertical-align: middle;\n",
       "    }\n",
       "\n",
       "    .dataframe tbody tr th {\n",
       "        vertical-align: top;\n",
       "    }\n",
       "\n",
       "    .dataframe thead th {\n",
       "        text-align: right;\n",
       "    }\n",
       "</style>\n",
       "<table border=\"1\" class=\"dataframe\">\n",
       "  <thead>\n",
       "    <tr style=\"text-align: right;\">\n",
       "      <th></th>\n",
       "      <th>ID</th>\n",
       "      <th>Negative</th>\n",
       "      <th>Neutral</th>\n",
       "      <th>Positive</th>\n",
       "      <th>compound</th>\n",
       "      <th>Review</th>\n",
       "      <th>date</th>\n",
       "      <th>Location</th>\n",
       "      <th>Corpus</th>\n",
       "    </tr>\n",
       "  </thead>\n",
       "  <tbody>\n",
       "    <tr>\n",
       "      <th>0</th>\n",
       "      <td>1</td>\n",
       "      <td>0.000</td>\n",
       "      <td>0.500</td>\n",
       "      <td>0.500</td>\n",
       "      <td>0.9325</td>\n",
       "      <td>I was very impressed with the resort.\\n Great ...</td>\n",
       "      <td>19-Aug</td>\n",
       "      <td>Sebastian</td>\n",
       "      <td>impressed resort great staff main resort pool ...</td>\n",
       "    </tr>\n",
       "    <tr>\n",
       "      <th>1</th>\n",
       "      <td>2</td>\n",
       "      <td>0.000</td>\n",
       "      <td>0.498</td>\n",
       "      <td>0.502</td>\n",
       "      <td>0.8779</td>\n",
       "      <td>The rooms were nice the outside needs work als...</td>\n",
       "      <td>19-Aug</td>\n",
       "      <td>Los Angeles</td>\n",
       "      <td>room nice outside need work also free breakfas...</td>\n",
       "    </tr>\n",
       "    <tr>\n",
       "      <th>2</th>\n",
       "      <td>3</td>\n",
       "      <td>0.000</td>\n",
       "      <td>0.728</td>\n",
       "      <td>0.272</td>\n",
       "      <td>0.6249</td>\n",
       "      <td>Great location! I have stayed at this hotel on...</td>\n",
       "      <td>19-Aug</td>\n",
       "      <td>Georgia</td>\n",
       "      <td>great location stayed hotel last three trip ne...</td>\n",
       "    </tr>\n",
       "    <tr>\n",
       "      <th>3</th>\n",
       "      <td>4</td>\n",
       "      <td>0.000</td>\n",
       "      <td>0.400</td>\n",
       "      <td>0.600</td>\n",
       "      <td>0.9260</td>\n",
       "      <td>Great location, room was large and spacious. P...</td>\n",
       "      <td>19-Aug</td>\n",
       "      <td>Palm Harbor</td>\n",
       "      <td>great location room large spacious parking eas...</td>\n",
       "    </tr>\n",
       "    <tr>\n",
       "      <th>4</th>\n",
       "      <td>5</td>\n",
       "      <td>0.000</td>\n",
       "      <td>0.476</td>\n",
       "      <td>0.524</td>\n",
       "      <td>0.9477</td>\n",
       "      <td>Very clean and friendly and I love the locatio...</td>\n",
       "      <td>19-Aug</td>\n",
       "      <td>California</td>\n",
       "      <td>clean friendly love location restaurant inside...</td>\n",
       "    </tr>\n",
       "    <tr>\n",
       "      <th>...</th>\n",
       "      <td>...</td>\n",
       "      <td>...</td>\n",
       "      <td>...</td>\n",
       "      <td>...</td>\n",
       "      <td>...</td>\n",
       "      <td>...</td>\n",
       "      <td>...</td>\n",
       "      <td>...</td>\n",
       "      <td>...</td>\n",
       "    </tr>\n",
       "    <tr>\n",
       "      <th>1700</th>\n",
       "      <td>1701</td>\n",
       "      <td>0.000</td>\n",
       "      <td>0.684</td>\n",
       "      <td>0.316</td>\n",
       "      <td>0.9682</td>\n",
       "      <td>·the staff were all so friendly. frank, the ch...</td>\n",
       "      <td>19-Jul</td>\n",
       "      <td>United States of America</td>\n",
       "      <td>staff friendly frank chef buffet bar top meeti...</td>\n",
       "    </tr>\n",
       "    <tr>\n",
       "      <th>1701</th>\n",
       "      <td>1702</td>\n",
       "      <td>0.000</td>\n",
       "      <td>1.000</td>\n",
       "      <td>0.000</td>\n",
       "      <td>0.0000</td>\n",
       "      <td>·the internet barely worked or didn't work</td>\n",
       "      <td>19-Jul</td>\n",
       "      <td>United States of America</td>\n",
       "      <td>internet barely worked work</td>\n",
       "    </tr>\n",
       "    <tr>\n",
       "      <th>1702</th>\n",
       "      <td>1703</td>\n",
       "      <td>0.243</td>\n",
       "      <td>0.374</td>\n",
       "      <td>0.383</td>\n",
       "      <td>0.3612</td>\n",
       "      <td>·the location was great.\\n \\n \\n \\n \\n ·the be...</td>\n",
       "      <td>19-Jul</td>\n",
       "      <td>United States of America</td>\n",
       "      <td>location great bed uncomfortable bed ever</td>\n",
       "    </tr>\n",
       "    <tr>\n",
       "      <th>1703</th>\n",
       "      <td>1704</td>\n",
       "      <td>0.000</td>\n",
       "      <td>1.000</td>\n",
       "      <td>0.000</td>\n",
       "      <td>0.0000</td>\n",
       "      <td>·we were early for check in and the staff was ...</td>\n",
       "      <td>19-Jul</td>\n",
       "      <td>United States of America</td>\n",
       "      <td>early check staff accommodating able check sev...</td>\n",
       "    </tr>\n",
       "    <tr>\n",
       "      <th>1704</th>\n",
       "      <td>1705</td>\n",
       "      <td>0.000</td>\n",
       "      <td>0.515</td>\n",
       "      <td>0.485</td>\n",
       "      <td>0.7650</td>\n",
       "      <td>·staff, free coffee, location and activities.\\...</td>\n",
       "      <td>19-Jul</td>\n",
       "      <td>United States of America</td>\n",
       "      <td>staff free coffee location activity bed smalle...</td>\n",
       "    </tr>\n",
       "  </tbody>\n",
       "</table>\n",
       "<p>1705 rows × 9 columns</p>\n",
       "</div>"
      ],
      "text/plain": [
       "        ID  Negative  Neutral  Positive  compound  \\\n",
       "0        1     0.000    0.500     0.500    0.9325   \n",
       "1        2     0.000    0.498     0.502    0.8779   \n",
       "2        3     0.000    0.728     0.272    0.6249   \n",
       "3        4     0.000    0.400     0.600    0.9260   \n",
       "4        5     0.000    0.476     0.524    0.9477   \n",
       "...    ...       ...      ...       ...       ...   \n",
       "1700  1701     0.000    0.684     0.316    0.9682   \n",
       "1701  1702     0.000    1.000     0.000    0.0000   \n",
       "1702  1703     0.243    0.374     0.383    0.3612   \n",
       "1703  1704     0.000    1.000     0.000    0.0000   \n",
       "1704  1705     0.000    0.515     0.485    0.7650   \n",
       "\n",
       "                                                 Review    date  \\\n",
       "0     I was very impressed with the resort.\\n Great ...  19-Aug   \n",
       "1     The rooms were nice the outside needs work als...  19-Aug   \n",
       "2     Great location! I have stayed at this hotel on...  19-Aug   \n",
       "3     Great location, room was large and spacious. P...  19-Aug   \n",
       "4     Very clean and friendly and I love the locatio...  19-Aug   \n",
       "...                                                 ...     ...   \n",
       "1700  ·the staff were all so friendly. frank, the ch...  19-Jul   \n",
       "1701         ·the internet barely worked or didn't work  19-Jul   \n",
       "1702  ·the location was great.\\n \\n \\n \\n \\n ·the be...  19-Jul   \n",
       "1703  ·we were early for check in and the staff was ...  19-Jul   \n",
       "1704  ·staff, free coffee, location and activities.\\...  19-Jul   \n",
       "\n",
       "                      Location  \\\n",
       "0                    Sebastian   \n",
       "1                  Los Angeles   \n",
       "2                      Georgia   \n",
       "3                  Palm Harbor   \n",
       "4                   California   \n",
       "...                        ...   \n",
       "1700  United States of America   \n",
       "1701  United States of America   \n",
       "1702  United States of America   \n",
       "1703  United States of America   \n",
       "1704  United States of America   \n",
       "\n",
       "                                                 Corpus  \n",
       "0     impressed resort great staff main resort pool ...  \n",
       "1     room nice outside need work also free breakfas...  \n",
       "2     great location stayed hotel last three trip ne...  \n",
       "3     great location room large spacious parking eas...  \n",
       "4     clean friendly love location restaurant inside...  \n",
       "...                                                 ...  \n",
       "1700  staff friendly frank chef buffet bar top meeti...  \n",
       "1701                        internet barely worked work  \n",
       "1702          location great bed uncomfortable bed ever  \n",
       "1703  early check staff accommodating able check sev...  \n",
       "1704  staff free coffee location activity bed smalle...  \n",
       "\n",
       "[1705 rows x 9 columns]"
      ]
     },
     "execution_count": 18,
     "metadata": {},
     "output_type": "execute_result"
    }
   ],
   "source": [
    "vaders"
   ]
  },
  {
   "cell_type": "code",
   "execution_count": 19,
   "id": "0460d73f",
   "metadata": {},
   "outputs": [
    {
     "data": {
      "text/plain": [
       "<matplotlib.legend.Legend at 0x1d4c98d7bb0>"
      ]
     },
     "execution_count": 19,
     "metadata": {},
     "output_type": "execute_result"
    },
    {
     "data": {
      "text/plain": [
       "<Figure size 2016x360 with 0 Axes>"
      ]
     },
     "metadata": {},
     "output_type": "display_data"
    },
    {
     "data": {
      "image/png": "[encoded data removed]",
      "text/plain": [
       "<Figure size 864x432 with 1 Axes>"
      ]
     },
     "metadata": {
      "needs_background": "light"
     },
     "output_type": "display_data"
    }
   ],
   "source": [
    "plt.figure(figsize=(28,5))\n",
    "ax = vaders.groupby('date')[['Positive','Negative','Neutral']].sum().plot.bar(figsize=(12,6),color = ['#23C4ED','#02B290','#5A20CB'])\n",
    "ax.set_ylabel('Number of Review')\n",
    "ax.set_title('Ratings')\n",
    "ax.legend()\n"
   ]
  },
  {
   "cell_type": "code",
   "execution_count": 20,
   "id": "d9bce4e4",
   "metadata": {},
   "outputs": [],
   "source": [
    "from collections import Counter\n",
    "Most_common_words = Counter(\" \".join(vaders['Corpus']).split()).most_common(100)"
   ]
  },
  {
   "cell_type": "code",
   "execution_count": 21,
   "id": "1f0ee2bc",
   "metadata": {},
   "outputs": [
    {
     "data": {
      "text/plain": [
       "[('read', 3054),\n",
       " ('le', 1564),\n",
       " ('room', 1268),\n",
       " ('hotel', 799),\n",
       " ('staff', 566),\n",
       " ('great', 433),\n",
       " ('location', 417),\n",
       " ('clean', 389),\n",
       " ('nice', 378),\n",
       " ('stay', 342),\n",
       " ('time', 255),\n",
       " ('bed', 252),\n",
       " ('friendly', 240),\n",
       " ('good', 233),\n",
       " ('pool', 232),\n",
       " ('would', 221),\n",
       " ('property', 215),\n",
       " ('night', 197),\n",
       " ('check', 195),\n",
       " ('service', 184),\n",
       " ('day', 183),\n",
       " ('desk', 174),\n",
       " ('one', 173),\n",
       " ('u', 171),\n",
       " ('parking', 169),\n",
       " ('like', 167),\n",
       " ('front', 154),\n",
       " ('disney', 147),\n",
       " ('area', 146),\n",
       " ('small', 145),\n",
       " ('close', 144),\n",
       " ('get', 143),\n",
       " ('helpful', 139),\n",
       " ('bathroom', 135),\n",
       " ('restaurant', 133),\n",
       " ('really', 130),\n",
       " ('back', 125),\n",
       " ('comfortable', 120),\n",
       " ('also', 118),\n",
       " ('park', 118),\n",
       " ('breakfast', 117),\n",
       " ('everything', 117),\n",
       " ('could', 114),\n",
       " ('place', 111),\n",
       " ('lobby', 110),\n",
       " ('need', 106),\n",
       " ('new', 106),\n",
       " ('well', 105),\n",
       " ('de', 104),\n",
       " ('old', 102),\n",
       " ('price', 100),\n",
       " ('door', 99),\n",
       " ('stayed', 97),\n",
       " ('resort', 96),\n",
       " ('floor', 96),\n",
       " ('lot', 96),\n",
       " ('shower', 94),\n",
       " ('next', 93),\n",
       " ('got', 93),\n",
       " ('little', 92),\n",
       " ('definitely', 92),\n",
       " ('walk', 92),\n",
       " ('excellent', 88),\n",
       " ('beautiful', 88),\n",
       " ('go', 86),\n",
       " ('fee', 85),\n",
       " ('two', 82),\n",
       " ('people', 80),\n",
       " ('hour', 80),\n",
       " ('food', 79),\n",
       " ('view', 77),\n",
       " ('walking', 77),\n",
       " ('dirty', 75),\n",
       " ('la', 73),\n",
       " ('e', 73),\n",
       " ('charge', 73),\n",
       " ('station', 73),\n",
       " ('water', 73),\n",
       " ('even', 71),\n",
       " ('coffee', 71),\n",
       " ('never', 70),\n",
       " ('loved', 69),\n",
       " ('square', 69),\n",
       " ('airport', 69),\n",
       " ('first', 68),\n",
       " ('super', 68),\n",
       " ('thing', 68),\n",
       " ('around', 68),\n",
       " ('overall', 67),\n",
       " ('free', 66),\n",
       " ('bar', 65),\n",
       " ('made', 65),\n",
       " ('spring', 65),\n",
       " ('much', 65),\n",
       " ('minute', 63),\n",
       " ('shuttle', 63),\n",
       " ('building', 63),\n",
       " ('easy', 62),\n",
       " ('family', 62),\n",
       " ('distance', 61)]"
      ]
     },
     "execution_count": 21,
     "metadata": {},
     "output_type": "execute_result"
    }
   ],
   "source": [
    "Most_common_words"
   ]
  },
  {
   "cell_type": "code",
   "execution_count": 22,
   "id": "5efbdd5f",
   "metadata": {},
   "outputs": [],
   "source": [
    "d = pd.DataFrame(Most_common_words,columns=['Words','Count'])"
   ]
  },
  {
   "cell_type": "code",
   "execution_count": 23,
   "id": "cf3d9da5",
   "metadata": {},
   "outputs": [
    {
     "data": {
      "text/html": [
       "<div>\n",
       "<style scoped>\n",
       "    .dataframe tbody tr th:only-of-type {\n",
       "        vertical-align: middle;\n",
       "    }\n",
       "\n",
       "    .dataframe tbody tr th {\n",
       "        vertical-align: top;\n",
       "    }\n",
       "\n",
       "    .dataframe thead th {\n",
       "        text-align: right;\n",
       "    }\n",
       "</style>\n",
       "<table border=\"1\" class=\"dataframe\">\n",
       "  <thead>\n",
       "    <tr style=\"text-align: right;\">\n",
       "      <th></th>\n",
       "      <th>Words</th>\n",
       "      <th>Count</th>\n",
       "    </tr>\n",
       "  </thead>\n",
       "  <tbody>\n",
       "    <tr>\n",
       "      <th>0</th>\n",
       "      <td>read</td>\n",
       "      <td>3054</td>\n",
       "    </tr>\n",
       "    <tr>\n",
       "      <th>1</th>\n",
       "      <td>le</td>\n",
       "      <td>1564</td>\n",
       "    </tr>\n",
       "    <tr>\n",
       "      <th>2</th>\n",
       "      <td>room</td>\n",
       "      <td>1268</td>\n",
       "    </tr>\n",
       "    <tr>\n",
       "      <th>3</th>\n",
       "      <td>hotel</td>\n",
       "      <td>799</td>\n",
       "    </tr>\n",
       "    <tr>\n",
       "      <th>4</th>\n",
       "      <td>staff</td>\n",
       "      <td>566</td>\n",
       "    </tr>\n",
       "    <tr>\n",
       "      <th>...</th>\n",
       "      <td>...</td>\n",
       "      <td>...</td>\n",
       "    </tr>\n",
       "    <tr>\n",
       "      <th>95</th>\n",
       "      <td>shuttle</td>\n",
       "      <td>63</td>\n",
       "    </tr>\n",
       "    <tr>\n",
       "      <th>96</th>\n",
       "      <td>building</td>\n",
       "      <td>63</td>\n",
       "    </tr>\n",
       "    <tr>\n",
       "      <th>97</th>\n",
       "      <td>easy</td>\n",
       "      <td>62</td>\n",
       "    </tr>\n",
       "    <tr>\n",
       "      <th>98</th>\n",
       "      <td>family</td>\n",
       "      <td>62</td>\n",
       "    </tr>\n",
       "    <tr>\n",
       "      <th>99</th>\n",
       "      <td>distance</td>\n",
       "      <td>61</td>\n",
       "    </tr>\n",
       "  </tbody>\n",
       "</table>\n",
       "<p>100 rows × 2 columns</p>\n",
       "</div>"
      ],
      "text/plain": [
       "       Words  Count\n",
       "0       read   3054\n",
       "1         le   1564\n",
       "2       room   1268\n",
       "3      hotel    799\n",
       "4      staff    566\n",
       "..       ...    ...\n",
       "95   shuttle     63\n",
       "96  building     63\n",
       "97      easy     62\n",
       "98    family     62\n",
       "99  distance     61\n",
       "\n",
       "[100 rows x 2 columns]"
      ]
     },
     "execution_count": 23,
     "metadata": {},
     "output_type": "execute_result"
    }
   ],
   "source": [
    "d"
   ]
  },
  {
   "cell_type": "code",
   "execution_count": 24,
   "id": "6e5764d9",
   "metadata": {},
   "outputs": [],
   "source": [
    "text = \" \".join(Word.split()[0] for Word in d.Words)"
   ]
  },
  {
   "cell_type": "code",
   "execution_count": 25,
   "id": "8fecdb5f",
   "metadata": {},
   "outputs": [],
   "source": [
    "word_cloud = WordCloud(collocations = False, background_color = 'white').generate(text)"
   ]
  },
  {
   "cell_type": "code",
   "execution_count": 26,
   "id": "552afe23",
   "metadata": {},
   "outputs": [
    {
     "data": {
      "image/png": "[encoded data removed]",
      "text/plain": [
       "<Figure size 432x288 with 1 Axes>"
      ]
     },
     "metadata": {
      "needs_background": "light"
     },
     "output_type": "display_data"
    },
    {
     "data": {
      "text/plain": [
       "<Figure size 1440x720 with 0 Axes>"
      ]
     },
     "metadata": {},
     "output_type": "display_data"
    }
   ],
   "source": [
    "plt.imshow(word_cloud, interpolation='bilinear')\n",
    "plt.axis(\"off\")\n",
    "plt.figure(figsize=[20,10])\n",
    "plt.show()"
   ]
  },
  {
   "cell_type": "code",
   "execution_count": 27,
   "id": "69b612b2",
   "metadata": {},
   "outputs": [],
   "source": [
    "Positive_Review = vaders['Positive'].sum()"
   ]
  },
  {
   "cell_type": "code",
   "execution_count": 28,
   "id": "2eac0d01",
   "metadata": {},
   "outputs": [],
   "source": [
    "Negative_Review = vaders['Negative'].sum()"
   ]
  },
  {
   "cell_type": "code",
   "execution_count": 29,
   "id": "4109fd5f",
   "metadata": {},
   "outputs": [],
   "source": [
    "Neutral_Review = vaders['Neutral'].sum()"
   ]
  },
  {
   "cell_type": "code",
   "execution_count": 30,
   "id": "a516f6e1",
   "metadata": {},
   "outputs": [],
   "source": [
    "Total_Review = vaders['ID'].count()"
   ]
  },
  {
   "cell_type": "code",
   "execution_count": 31,
   "id": "76c3b60d",
   "metadata": {},
   "outputs": [
    {
     "data": {
      "text/plain": [
       "28.563049853372434"
      ]
     },
     "execution_count": 31,
     "metadata": {},
     "output_type": "execute_result"
    }
   ],
   "source": [
    "Positive_Review.round()*100/Total_Review"
   ]
  },
  {
   "cell_type": "code",
   "execution_count": 32,
   "id": "a9d6fa47",
   "metadata": {},
   "outputs": [
    {
     "data": {
      "text/plain": [
       "5.219941348973607"
      ]
     },
     "execution_count": 32,
     "metadata": {},
     "output_type": "execute_result"
    }
   ],
   "source": [
    "Negative_Review.round()*100/Total_Review\n"
   ]
  },
  {
   "cell_type": "code",
   "execution_count": 33,
   "id": "2f032690",
   "metadata": {},
   "outputs": [
    {
     "data": {
      "text/plain": [
       "66.158357771261"
      ]
     },
     "execution_count": 33,
     "metadata": {},
     "output_type": "execute_result"
    }
   ],
   "source": [
    "Neutral_Review.round()*100/Total_Review"
   ]
  },
  {
   "cell_type": "code",
   "execution_count": 34,
   "id": "dba73234",
   "metadata": {},
   "outputs": [
    {
     "data": {
      "text/plain": [
       "1705"
      ]
     },
     "execution_count": 34,
     "metadata": {},
     "output_type": "execute_result"
    }
   ],
   "source": [
    "Total_Review"
   ]
  },
  {
   "cell_type": "code",
   "execution_count": 35,
   "id": "3173480e",
   "metadata": {},
   "outputs": [
    {
     "name": "stdout",
     "output_type": "stream",
     "text": [
      "*** Reviews According to Percentage - After Dropping Null Values ***\n",
      "+-----------------+---------+--------------+\n",
      "| Sentiment       |   Count |   Percentage |\n",
      "+=================+=========+==============+\n",
      "| Positive_Review |     487 |     28.563   |\n",
      "+-----------------+---------+--------------+\n",
      "| Negative_Review |      88 |      5.21994 |\n",
      "+-----------------+---------+--------------+\n",
      "| Neutral_Review  |    1128 |     66.1584  |\n",
      "+-----------------+---------+--------------+\n"
     ]
    }
   ],
   "source": [
    "data = [['Positive_Review', 487, 28.563049853372434] , ['Negative_Review' , 88, 5.219941348973607] , ['Neutral_Review' , 1128, 66.158357771261]]\n",
    "head = ['Sentiment', 'Count', 'Percentage']\n",
    "print(\"*** Reviews According to Percentage - After Dropping Null Values ***\")\n",
    "t = tabulate(data, headers=head, tablefmt=\"grid\")\n",
    "print(t)"
   ]
  },
  {
   "cell_type": "code",
   "execution_count": 36,
   "id": "85e4e2e2",
   "metadata": {},
   "outputs": [
    {
     "data": {
      "text/plain": [
       "United States of America    116\n",
       "New York                     34\n",
       "San Jose                     19\n",
       "California                   19\n",
       "Florida                      16\n",
       "Name: Location, dtype: int64"
      ]
     },
     "execution_count": 36,
     "metadata": {},
     "output_type": "execute_result"
    }
   ],
   "source": [
    "vaders['Location'].value_counts().head(5)"
   ]
  },
  {
   "cell_type": "code",
   "execution_count": null,
   "id": "a0947d4e",
   "metadata": {},
   "outputs": [],
   "source": []
  }
 ],
 "metadata": {
  "kernelspec": {
   "display_name": "Python 3 (ipykernel)",
   "language": "python",
   "name": "python3"
  },
  "language_info": {
   "codemirror_mode": {
    "name": "ipython",
    "version": 3
   },
   "file_extension": ".py",
   "mimetype": "text/x-python",
   "name": "python",
   "nbconvert_exporter": "python",
   "pygments_lexer": "ipython3",
   "version": "3.9.12"
  }
 },
 "nbformat": 4,
 "nbformat_minor": 5
}
