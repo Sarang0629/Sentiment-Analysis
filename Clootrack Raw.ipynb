{
 "cells": [
  {
   "cell_type": "code",
   "execution_count": 1,
   "id": "e1369847",
   "metadata": {},
   "outputs": [],
   "source": [
    "import pandas as pd\n",
    "import matplotlib.pyplot as plt\n",
    "%matplotlib inline\n",
    "import seaborn as sns\n",
    "import nltk\n",
    "import re\n",
    "from nltk.corpus import stopwords\n",
    "from nltk.stem import WordNetLemmatizer\n",
    "from vaderSentiment.vaderSentiment import SentimentIntensityAnalyzer\n",
    "from nltk.sentiment import SentimentIntensityAnalyzer\n",
    "from tqdm.notebook import tqdm\n",
    "from wordcloud import WordCloud\n",
    "from tabulate import tabulate"
   ]
  },
  {
   "cell_type": "code",
   "execution_count": 2,
   "id": "2d66f0ae",
   "metadata": {},
   "outputs": [],
   "source": [
    "df = pd.read_csv(\"C:/Users/ASUS/Desktop/Data Analyst - Test Data - US.csv\")"
   ]
  },
  {
   "cell_type": "code",
   "execution_count": 3,
   "id": "26745c09",
   "metadata": {},
   "outputs": [
    {
     "data": {
      "text/html": [
       "<div>\n",
       "<style scoped>\n",
       "    .dataframe tbody tr th:only-of-type {\n",
       "        vertical-align: middle;\n",
       "    }\n",
       "\n",
       "    .dataframe tbody tr th {\n",
       "        vertical-align: top;\n",
       "    }\n",
       "\n",
       "    .dataframe thead th {\n",
       "        text-align: right;\n",
       "    }\n",
       "</style>\n",
       "<table border=\"1\" class=\"dataframe\">\n",
       "  <thead>\n",
       "    <tr style=\"text-align: right;\">\n",
       "      <th></th>\n",
       "      <th>Review</th>\n",
       "      <th>date</th>\n",
       "      <th>Location</th>\n",
       "      <th>ID</th>\n",
       "    </tr>\n",
       "  </thead>\n",
       "  <tbody>\n",
       "    <tr>\n",
       "      <th>0</th>\n",
       "      <td>I was very impressed with the resort.\\n Great ...</td>\n",
       "      <td>19-Aug</td>\n",
       "      <td>Sebastian</td>\n",
       "      <td>1</td>\n",
       "    </tr>\n",
       "    <tr>\n",
       "      <th>1</th>\n",
       "      <td>The rooms were nice the outside needs work als...</td>\n",
       "      <td>19-Aug</td>\n",
       "      <td>Los Angeles</td>\n",
       "      <td>2</td>\n",
       "    </tr>\n",
       "    <tr>\n",
       "      <th>2</th>\n",
       "      <td>Great location! I have stayed at this hotel on...</td>\n",
       "      <td>19-Aug</td>\n",
       "      <td>Georgia</td>\n",
       "      <td>3</td>\n",
       "    </tr>\n",
       "    <tr>\n",
       "      <th>3</th>\n",
       "      <td>The hotel was adequate for my stay. The strips...</td>\n",
       "      <td>19-Aug</td>\n",
       "      <td>NaN</td>\n",
       "      <td>4</td>\n",
       "    </tr>\n",
       "    <tr>\n",
       "      <th>4</th>\n",
       "      <td>Great location, room was large and spacious. P...</td>\n",
       "      <td>19-Aug</td>\n",
       "      <td>Palm Harbor</td>\n",
       "      <td>5</td>\n",
       "    </tr>\n",
       "    <tr>\n",
       "      <th>...</th>\n",
       "      <td>...</td>\n",
       "      <td>...</td>\n",
       "      <td>...</td>\n",
       "      <td>...</td>\n",
       "    </tr>\n",
       "    <tr>\n",
       "      <th>6443</th>\n",
       "      <td>·the staff were all so friendly. frank, the ch...</td>\n",
       "      <td>19-Jul</td>\n",
       "      <td>United States of America</td>\n",
       "      <td>6444</td>\n",
       "    </tr>\n",
       "    <tr>\n",
       "      <th>6444</th>\n",
       "      <td>·the internet barely worked or didn't work</td>\n",
       "      <td>19-Jul</td>\n",
       "      <td>United States of America</td>\n",
       "      <td>6445</td>\n",
       "    </tr>\n",
       "    <tr>\n",
       "      <th>6445</th>\n",
       "      <td>·the location was great.\\n \\n \\n \\n \\n ·the be...</td>\n",
       "      <td>19-Jul</td>\n",
       "      <td>United States of America</td>\n",
       "      <td>6446</td>\n",
       "    </tr>\n",
       "    <tr>\n",
       "      <th>6446</th>\n",
       "      <td>·we were early for check in and the staff was ...</td>\n",
       "      <td>19-Jul</td>\n",
       "      <td>United States of America</td>\n",
       "      <td>6447</td>\n",
       "    </tr>\n",
       "    <tr>\n",
       "      <th>6447</th>\n",
       "      <td>·staff, free coffee, location and activities.\\...</td>\n",
       "      <td>19-Jul</td>\n",
       "      <td>United States of America</td>\n",
       "      <td>6448</td>\n",
       "    </tr>\n",
       "  </tbody>\n",
       "</table>\n",
       "<p>6448 rows × 4 columns</p>\n",
       "</div>"
      ],
      "text/plain": [
       "                                                 Review    date  \\\n",
       "0     I was very impressed with the resort.\\n Great ...  19-Aug   \n",
       "1     The rooms were nice the outside needs work als...  19-Aug   \n",
       "2     Great location! I have stayed at this hotel on...  19-Aug   \n",
       "3     The hotel was adequate for my stay. The strips...  19-Aug   \n",
       "4     Great location, room was large and spacious. P...  19-Aug   \n",
       "...                                                 ...     ...   \n",
       "6443  ·the staff were all so friendly. frank, the ch...  19-Jul   \n",
       "6444         ·the internet barely worked or didn't work  19-Jul   \n",
       "6445  ·the location was great.\\n \\n \\n \\n \\n ·the be...  19-Jul   \n",
       "6446  ·we were early for check in and the staff was ...  19-Jul   \n",
       "6447  ·staff, free coffee, location and activities.\\...  19-Jul   \n",
       "\n",
       "                      Location    ID  \n",
       "0                    Sebastian     1  \n",
       "1                  Los Angeles     2  \n",
       "2                      Georgia     3  \n",
       "3                          NaN     4  \n",
       "4                  Palm Harbor     5  \n",
       "...                        ...   ...  \n",
       "6443  United States of America  6444  \n",
       "6444  United States of America  6445  \n",
       "6445  United States of America  6446  \n",
       "6446  United States of America  6447  \n",
       "6447  United States of America  6448  \n",
       "\n",
       "[6448 rows x 4 columns]"
      ]
     },
     "execution_count": 3,
     "metadata": {},
     "output_type": "execute_result"
    }
   ],
   "source": [
    "df"
   ]
  },
  {
   "cell_type": "code",
   "execution_count": 4,
   "id": "0a21b99e",
   "metadata": {},
   "outputs": [],
   "source": [
    "lemmatizer = WordNetLemmatizer()\n",
    "corpus = []\n",
    "for i in range(0, len(df)):\n",
    "    reviews = re.sub(r'[^a-zA-Z]', ' ', str(df['Review'][i]))\n",
    "    reviews = reviews.lower()\n",
    "    reviews = reviews.split()\n",
    "    \n",
    "    reviews= [lemmatizer.lemmatize(word) for word in reviews if not word in set(stopwords.words('english'))]\n",
    "    reviews = ' '.join(reviews)\n",
    "    corpus.append(reviews)"
   ]
  },
  {
   "cell_type": "code",
   "execution_count": 5,
   "id": "85f1f051",
   "metadata": {},
   "outputs": [],
   "source": [
    "df['Corpus'] = corpus"
   ]
  },
  {
   "cell_type": "code",
   "execution_count": 6,
   "id": "97dfba38",
   "metadata": {},
   "outputs": [
    {
     "data": {
      "application/vnd.jupyter.widget-view+json": {
       "model_id": "4af7bd8b995b4867bdac6eda02c8bd56",
       "version_major": 2,
       "version_minor": 0
      },
      "text/plain": [
       "  0%|          | 0/6448 [00:00<?, ?it/s]"
      ]
     },
     "metadata": {},
     "output_type": "display_data"
    }
   ],
   "source": [
    "sia = SentimentIntensityAnalyzer()\n",
    "res = {}\n",
    "for i, row in tqdm(df.iterrows(), total=len(df)):\n",
    "    Review = row['ID']\n",
    "    Corpus = row['Corpus']\n",
    "    res[Review] = sia.polarity_scores(Corpus)"
   ]
  },
  {
   "cell_type": "code",
   "execution_count": 7,
   "id": "fa214c62",
   "metadata": {},
   "outputs": [],
   "source": [
    "vaders = pd.DataFrame(res).T"
   ]
  },
  {
   "cell_type": "code",
   "execution_count": 8,
   "id": "b94a3fcb",
   "metadata": {},
   "outputs": [],
   "source": [
    "vaders = vaders.reset_index().rename(columns = {'index':'ID'})"
   ]
  },
  {
   "cell_type": "code",
   "execution_count": 9,
   "id": "ffb26fb0",
   "metadata": {},
   "outputs": [],
   "source": [
    "vaders =vaders.merge(df, how = 'left')"
   ]
  },
  {
   "cell_type": "code",
   "execution_count": 10,
   "id": "8b907756",
   "metadata": {},
   "outputs": [],
   "source": [
    "date_wise = vaders['date'].value_counts()"
   ]
  },
  {
   "cell_type": "code",
   "execution_count": 11,
   "id": "bb1227ca",
   "metadata": {
    "scrolled": true
   },
   "outputs": [
    {
     "data": {
      "text/plain": [
       "18-Dec    630\n",
       "19-Mar    605\n",
       "19-Apr    593\n",
       "19-Jul    549\n",
       "19-May    526\n",
       "18-Oct    524\n",
       "18-Nov    519\n",
       "19-Jan    513\n",
       "18-Sep    481\n",
       "18-Aug    438\n",
       "19-Feb    418\n",
       "19-Jun    362\n",
       "19-Aug    290\n",
       "Name: date, dtype: int64"
      ]
     },
     "execution_count": 11,
     "metadata": {},
     "output_type": "execute_result"
    }
   ],
   "source": [
    "date_wise"
   ]
  },
  {
   "cell_type": "code",
   "execution_count": 12,
   "id": "26e51d13",
   "metadata": {},
   "outputs": [
    {
     "data": {
      "text/plain": [
       "Text(0.5, 1.0, 'Reviews Posted Monthly')"
      ]
     },
     "execution_count": 12,
     "metadata": {},
     "output_type": "execute_result"
    },
    {
     "data": {
      "image/png": "[encoded data removed]",
      "text/plain": [
       "<Figure size 2016x360 with 1 Axes>"
      ]
     },
     "metadata": {
      "needs_background": "light"
     },
     "output_type": "display_data"
    }
   ],
   "source": [
    "plt.figure(figsize=(28,5))\n",
    "sns.countplot(x=\"date\", data=vaders,palette='inferno')\n",
    "plt.rcParams.update({'font.size':10})\n",
    "plt.xticks(rotation = 0)\n",
    "plt.title('Reviews Posted Monthly')\n"
   ]
  },
  {
   "cell_type": "code",
   "execution_count": 13,
   "id": "bfca8d7a",
   "metadata": {},
   "outputs": [],
   "source": [
    "vaders.rename(columns = {'neg':'Negative', 'neu':'Neutral', 'pos' : 'Positive'}, inplace = True)"
   ]
  },
  {
   "cell_type": "code",
   "execution_count": 14,
   "id": "ad99b2dc",
   "metadata": {},
   "outputs": [
    {
     "data": {
      "text/html": [
       "<div>\n",
       "<style scoped>\n",
       "    .dataframe tbody tr th:only-of-type {\n",
       "        vertical-align: middle;\n",
       "    }\n",
       "\n",
       "    .dataframe tbody tr th {\n",
       "        vertical-align: top;\n",
       "    }\n",
       "\n",
       "    .dataframe thead th {\n",
       "        text-align: right;\n",
       "    }\n",
       "</style>\n",
       "<table border=\"1\" class=\"dataframe\">\n",
       "  <thead>\n",
       "    <tr style=\"text-align: right;\">\n",
       "      <th></th>\n",
       "      <th>ID</th>\n",
       "      <th>Negative</th>\n",
       "      <th>Neutral</th>\n",
       "      <th>Positive</th>\n",
       "      <th>compound</th>\n",
       "      <th>Review</th>\n",
       "      <th>date</th>\n",
       "      <th>Location</th>\n",
       "      <th>Corpus</th>\n",
       "    </tr>\n",
       "  </thead>\n",
       "  <tbody>\n",
       "    <tr>\n",
       "      <th>0</th>\n",
       "      <td>1</td>\n",
       "      <td>0.000</td>\n",
       "      <td>0.500</td>\n",
       "      <td>0.500</td>\n",
       "      <td>0.9325</td>\n",
       "      <td>I was very impressed with the resort.\\n Great ...</td>\n",
       "      <td>19-Aug</td>\n",
       "      <td>Sebastian</td>\n",
       "      <td>impressed resort great staff main resort pool ...</td>\n",
       "    </tr>\n",
       "    <tr>\n",
       "      <th>1</th>\n",
       "      <td>2</td>\n",
       "      <td>0.000</td>\n",
       "      <td>0.498</td>\n",
       "      <td>0.502</td>\n",
       "      <td>0.8779</td>\n",
       "      <td>The rooms were nice the outside needs work als...</td>\n",
       "      <td>19-Aug</td>\n",
       "      <td>Los Angeles</td>\n",
       "      <td>room nice outside need work also free breakfas...</td>\n",
       "    </tr>\n",
       "    <tr>\n",
       "      <th>2</th>\n",
       "      <td>3</td>\n",
       "      <td>0.000</td>\n",
       "      <td>0.728</td>\n",
       "      <td>0.272</td>\n",
       "      <td>0.6249</td>\n",
       "      <td>Great location! I have stayed at this hotel on...</td>\n",
       "      <td>19-Aug</td>\n",
       "      <td>Georgia</td>\n",
       "      <td>great location stayed hotel last three trip ne...</td>\n",
       "    </tr>\n",
       "    <tr>\n",
       "      <th>3</th>\n",
       "      <td>4</td>\n",
       "      <td>0.119</td>\n",
       "      <td>0.727</td>\n",
       "      <td>0.154</td>\n",
       "      <td>0.1779</td>\n",
       "      <td>The hotel was adequate for my stay. The strips...</td>\n",
       "      <td>19-Aug</td>\n",
       "      <td>NaN</td>\n",
       "      <td>hotel adequate stay strip bathtub useless fell...</td>\n",
       "    </tr>\n",
       "    <tr>\n",
       "      <th>4</th>\n",
       "      <td>5</td>\n",
       "      <td>0.000</td>\n",
       "      <td>0.400</td>\n",
       "      <td>0.600</td>\n",
       "      <td>0.9260</td>\n",
       "      <td>Great location, room was large and spacious. P...</td>\n",
       "      <td>19-Aug</td>\n",
       "      <td>Palm Harbor</td>\n",
       "      <td>great location room large spacious parking eas...</td>\n",
       "    </tr>\n",
       "    <tr>\n",
       "      <th>...</th>\n",
       "      <td>...</td>\n",
       "      <td>...</td>\n",
       "      <td>...</td>\n",
       "      <td>...</td>\n",
       "      <td>...</td>\n",
       "      <td>...</td>\n",
       "      <td>...</td>\n",
       "      <td>...</td>\n",
       "      <td>...</td>\n",
       "    </tr>\n",
       "    <tr>\n",
       "      <th>6443</th>\n",
       "      <td>6444</td>\n",
       "      <td>0.000</td>\n",
       "      <td>0.684</td>\n",
       "      <td>0.316</td>\n",
       "      <td>0.9682</td>\n",
       "      <td>·the staff were all so friendly. frank, the ch...</td>\n",
       "      <td>19-Jul</td>\n",
       "      <td>United States of America</td>\n",
       "      <td>staff friendly frank chef buffet bar top meeti...</td>\n",
       "    </tr>\n",
       "    <tr>\n",
       "      <th>6444</th>\n",
       "      <td>6445</td>\n",
       "      <td>0.000</td>\n",
       "      <td>1.000</td>\n",
       "      <td>0.000</td>\n",
       "      <td>0.0000</td>\n",
       "      <td>·the internet barely worked or didn't work</td>\n",
       "      <td>19-Jul</td>\n",
       "      <td>United States of America</td>\n",
       "      <td>internet barely worked work</td>\n",
       "    </tr>\n",
       "    <tr>\n",
       "      <th>6445</th>\n",
       "      <td>6446</td>\n",
       "      <td>0.243</td>\n",
       "      <td>0.374</td>\n",
       "      <td>0.383</td>\n",
       "      <td>0.3612</td>\n",
       "      <td>·the location was great.\\n \\n \\n \\n \\n ·the be...</td>\n",
       "      <td>19-Jul</td>\n",
       "      <td>United States of America</td>\n",
       "      <td>location great bed uncomfortable bed ever</td>\n",
       "    </tr>\n",
       "    <tr>\n",
       "      <th>6446</th>\n",
       "      <td>6447</td>\n",
       "      <td>0.000</td>\n",
       "      <td>1.000</td>\n",
       "      <td>0.000</td>\n",
       "      <td>0.0000</td>\n",
       "      <td>·we were early for check in and the staff was ...</td>\n",
       "      <td>19-Jul</td>\n",
       "      <td>United States of America</td>\n",
       "      <td>early check staff accommodating able check sev...</td>\n",
       "    </tr>\n",
       "    <tr>\n",
       "      <th>6447</th>\n",
       "      <td>6448</td>\n",
       "      <td>0.000</td>\n",
       "      <td>0.515</td>\n",
       "      <td>0.485</td>\n",
       "      <td>0.7650</td>\n",
       "      <td>·staff, free coffee, location and activities.\\...</td>\n",
       "      <td>19-Jul</td>\n",
       "      <td>United States of America</td>\n",
       "      <td>staff free coffee location activity bed smalle...</td>\n",
       "    </tr>\n",
       "  </tbody>\n",
       "</table>\n",
       "<p>6448 rows × 9 columns</p>\n",
       "</div>"
      ],
      "text/plain": [
       "        ID  Negative  Neutral  Positive  compound  \\\n",
       "0        1     0.000    0.500     0.500    0.9325   \n",
       "1        2     0.000    0.498     0.502    0.8779   \n",
       "2        3     0.000    0.728     0.272    0.6249   \n",
       "3        4     0.119    0.727     0.154    0.1779   \n",
       "4        5     0.000    0.400     0.600    0.9260   \n",
       "...    ...       ...      ...       ...       ...   \n",
       "6443  6444     0.000    0.684     0.316    0.9682   \n",
       "6444  6445     0.000    1.000     0.000    0.0000   \n",
       "6445  6446     0.243    0.374     0.383    0.3612   \n",
       "6446  6447     0.000    1.000     0.000    0.0000   \n",
       "6447  6448     0.000    0.515     0.485    0.7650   \n",
       "\n",
       "                                                 Review    date  \\\n",
       "0     I was very impressed with the resort.\\n Great ...  19-Aug   \n",
       "1     The rooms were nice the outside needs work als...  19-Aug   \n",
       "2     Great location! I have stayed at this hotel on...  19-Aug   \n",
       "3     The hotel was adequate for my stay. The strips...  19-Aug   \n",
       "4     Great location, room was large and spacious. P...  19-Aug   \n",
       "...                                                 ...     ...   \n",
       "6443  ·the staff were all so friendly. frank, the ch...  19-Jul   \n",
       "6444         ·the internet barely worked or didn't work  19-Jul   \n",
       "6445  ·the location was great.\\n \\n \\n \\n \\n ·the be...  19-Jul   \n",
       "6446  ·we were early for check in and the staff was ...  19-Jul   \n",
       "6447  ·staff, free coffee, location and activities.\\...  19-Jul   \n",
       "\n",
       "                      Location  \\\n",
       "0                    Sebastian   \n",
       "1                  Los Angeles   \n",
       "2                      Georgia   \n",
       "3                          NaN   \n",
       "4                  Palm Harbor   \n",
       "...                        ...   \n",
       "6443  United States of America   \n",
       "6444  United States of America   \n",
       "6445  United States of America   \n",
       "6446  United States of America   \n",
       "6447  United States of America   \n",
       "\n",
       "                                                 Corpus  \n",
       "0     impressed resort great staff main resort pool ...  \n",
       "1     room nice outside need work also free breakfas...  \n",
       "2     great location stayed hotel last three trip ne...  \n",
       "3     hotel adequate stay strip bathtub useless fell...  \n",
       "4     great location room large spacious parking eas...  \n",
       "...                                                 ...  \n",
       "6443  staff friendly frank chef buffet bar top meeti...  \n",
       "6444                        internet barely worked work  \n",
       "6445          location great bed uncomfortable bed ever  \n",
       "6446  early check staff accommodating able check sev...  \n",
       "6447  staff free coffee location activity bed smalle...  \n",
       "\n",
       "[6448 rows x 9 columns]"
      ]
     },
     "execution_count": 14,
     "metadata": {},
     "output_type": "execute_result"
    }
   ],
   "source": [
    "vaders"
   ]
  },
  {
   "cell_type": "code",
   "execution_count": 15,
   "id": "0460d73f",
   "metadata": {},
   "outputs": [
    {
     "data": {
      "text/plain": [
       "<matplotlib.legend.Legend at 0x1993e3c9880>"
      ]
     },
     "execution_count": 15,
     "metadata": {},
     "output_type": "execute_result"
    },
    {
     "data": {
      "text/plain": [
       "<Figure size 2016x360 with 0 Axes>"
      ]
     },
     "metadata": {},
     "output_type": "display_data"
    },
    {
     "data": {
      "image/png": "[encoded data removed]",
      "text/plain": [
       "<Figure size 864x432 with 1 Axes>"
      ]
     },
     "metadata": {
      "needs_background": "light"
     },
     "output_type": "display_data"
    }
   ],
   "source": [
    "plt.figure(figsize=(28,5))\n",
    "ax = vaders.groupby('date')[['Positive','Negative','Neutral']].sum().plot.bar(figsize=(12,6),color = ['#23C4ED','#02B290','#5A20CB'])\n",
    "ax.set_ylabel('Number of Review')\n",
    "ax.set_title('Ratings')\n",
    "ax.legend()\n"
   ]
  },
  {
   "cell_type": "code",
   "execution_count": 16,
   "id": "9314fce0",
   "metadata": {},
   "outputs": [],
   "source": [
    "from collections import Counter\n",
    "Most_common_words = Counter(\" \".join(vaders['Corpus']).split()).most_common(100)"
   ]
  },
  {
   "cell_type": "code",
   "execution_count": 17,
   "id": "958f56bb",
   "metadata": {},
   "outputs": [
    {
     "data": {
      "text/plain": [
       "[('read', 10632),\n",
       " ('le', 5428),\n",
       " ('room', 4629),\n",
       " ('hotel', 3182),\n",
       " ('staff', 1813),\n",
       " ('great', 1638),\n",
       " ('location', 1395),\n",
       " ('clean', 1367),\n",
       " ('stay', 1328),\n",
       " ('nice', 1255),\n",
       " ('good', 977),\n",
       " ('time', 939),\n",
       " ('bed', 843),\n",
       " ('friendly', 794),\n",
       " ('night', 788),\n",
       " ('would', 766),\n",
       " ('check', 734),\n",
       " ('service', 727),\n",
       " ('pool', 706),\n",
       " ('u', 622),\n",
       " ('day', 616),\n",
       " ('like', 610),\n",
       " ('one', 601),\n",
       " ('parking', 589),\n",
       " ('small', 571),\n",
       " ('desk', 569),\n",
       " ('property', 539),\n",
       " ('front', 534),\n",
       " ('get', 532),\n",
       " ('close', 530),\n",
       " ('disney', 527),\n",
       " ('place', 526),\n",
       " ('stayed', 510),\n",
       " ('restaurant', 509),\n",
       " ('new', 502),\n",
       " ('bathroom', 490),\n",
       " ('helpful', 485),\n",
       " ('comfortable', 480),\n",
       " ('area', 473),\n",
       " ('resort', 455),\n",
       " ('need', 452),\n",
       " ('could', 452),\n",
       " ('breakfast', 431),\n",
       " ('also', 423),\n",
       " ('everything', 409),\n",
       " ('back', 405),\n",
       " ('really', 389),\n",
       " ('park', 375),\n",
       " ('well', 363),\n",
       " ('de', 358),\n",
       " ('price', 354),\n",
       " ('floor', 353),\n",
       " ('door', 351),\n",
       " ('lobby', 345),\n",
       " ('view', 341),\n",
       " ('shower', 336),\n",
       " ('old', 335),\n",
       " ('fee', 331),\n",
       " ('next', 331),\n",
       " ('walk', 328),\n",
       " ('lot', 326),\n",
       " ('excellent', 317),\n",
       " ('got', 314),\n",
       " ('food', 303),\n",
       " ('la', 299),\n",
       " ('go', 294),\n",
       " ('even', 292),\n",
       " ('square', 291),\n",
       " ('two', 286),\n",
       " ('never', 284),\n",
       " ('building', 278),\n",
       " ('little', 278),\n",
       " ('definitely', 276),\n",
       " ('station', 274),\n",
       " ('water', 270),\n",
       " ('walking', 263),\n",
       " ('first', 260),\n",
       " ('people', 258),\n",
       " ('family', 254),\n",
       " ('easy', 252),\n",
       " ('dirty', 252),\n",
       " ('around', 252),\n",
       " ('overall', 251),\n",
       " ('thing', 251),\n",
       " ('convenient', 247),\n",
       " ('amazing', 246),\n",
       " ('beautiful', 245),\n",
       " ('told', 243),\n",
       " ('minute', 243),\n",
       " ('e', 243),\n",
       " ('wyndham', 239),\n",
       " ('much', 238),\n",
       " ('work', 235),\n",
       " ('yorker', 233),\n",
       " ('hour', 227),\n",
       " ('right', 225),\n",
       " ('n', 221),\n",
       " ('experience', 221),\n",
       " ('made', 220),\n",
       " ('bar', 219)]"
      ]
     },
     "execution_count": 17,
     "metadata": {},
     "output_type": "execute_result"
    }
   ],
   "source": [
    "Most_common_words"
   ]
  },
  {
   "cell_type": "code",
   "execution_count": 18,
   "id": "7b09a212",
   "metadata": {},
   "outputs": [],
   "source": [
    "d = pd.DataFrame(Most_common_words,columns=['Words','Count'])"
   ]
  },
  {
   "cell_type": "code",
   "execution_count": 19,
   "id": "36aa678e",
   "metadata": {},
   "outputs": [
    {
     "data": {
      "text/html": [
       "<div>\n",
       "<style scoped>\n",
       "    .dataframe tbody tr th:only-of-type {\n",
       "        vertical-align: middle;\n",
       "    }\n",
       "\n",
       "    .dataframe tbody tr th {\n",
       "        vertical-align: top;\n",
       "    }\n",
       "\n",
       "    .dataframe thead th {\n",
       "        text-align: right;\n",
       "    }\n",
       "</style>\n",
       "<table border=\"1\" class=\"dataframe\">\n",
       "  <thead>\n",
       "    <tr style=\"text-align: right;\">\n",
       "      <th></th>\n",
       "      <th>Words</th>\n",
       "      <th>Count</th>\n",
       "    </tr>\n",
       "  </thead>\n",
       "  <tbody>\n",
       "    <tr>\n",
       "      <th>0</th>\n",
       "      <td>read</td>\n",
       "      <td>10632</td>\n",
       "    </tr>\n",
       "    <tr>\n",
       "      <th>1</th>\n",
       "      <td>le</td>\n",
       "      <td>5428</td>\n",
       "    </tr>\n",
       "    <tr>\n",
       "      <th>2</th>\n",
       "      <td>room</td>\n",
       "      <td>4629</td>\n",
       "    </tr>\n",
       "    <tr>\n",
       "      <th>3</th>\n",
       "      <td>hotel</td>\n",
       "      <td>3182</td>\n",
       "    </tr>\n",
       "    <tr>\n",
       "      <th>4</th>\n",
       "      <td>staff</td>\n",
       "      <td>1813</td>\n",
       "    </tr>\n",
       "    <tr>\n",
       "      <th>...</th>\n",
       "      <td>...</td>\n",
       "      <td>...</td>\n",
       "    </tr>\n",
       "    <tr>\n",
       "      <th>95</th>\n",
       "      <td>right</td>\n",
       "      <td>225</td>\n",
       "    </tr>\n",
       "    <tr>\n",
       "      <th>96</th>\n",
       "      <td>n</td>\n",
       "      <td>221</td>\n",
       "    </tr>\n",
       "    <tr>\n",
       "      <th>97</th>\n",
       "      <td>experience</td>\n",
       "      <td>221</td>\n",
       "    </tr>\n",
       "    <tr>\n",
       "      <th>98</th>\n",
       "      <td>made</td>\n",
       "      <td>220</td>\n",
       "    </tr>\n",
       "    <tr>\n",
       "      <th>99</th>\n",
       "      <td>bar</td>\n",
       "      <td>219</td>\n",
       "    </tr>\n",
       "  </tbody>\n",
       "</table>\n",
       "<p>100 rows × 2 columns</p>\n",
       "</div>"
      ],
      "text/plain": [
       "         Words  Count\n",
       "0         read  10632\n",
       "1           le   5428\n",
       "2         room   4629\n",
       "3        hotel   3182\n",
       "4        staff   1813\n",
       "..         ...    ...\n",
       "95       right    225\n",
       "96           n    221\n",
       "97  experience    221\n",
       "98        made    220\n",
       "99         bar    219\n",
       "\n",
       "[100 rows x 2 columns]"
      ]
     },
     "execution_count": 19,
     "metadata": {},
     "output_type": "execute_result"
    }
   ],
   "source": [
    "d"
   ]
  },
  {
   "cell_type": "code",
   "execution_count": 20,
   "id": "e18feebb",
   "metadata": {},
   "outputs": [],
   "source": [
    "text = \" \".join(Word.split()[0] for Word in d.Words)"
   ]
  },
  {
   "cell_type": "code",
   "execution_count": 21,
   "id": "2d088bed",
   "metadata": {},
   "outputs": [],
   "source": [
    "word_cloud = WordCloud(collocations = False, background_color = 'white').generate(text)"
   ]
  },
  {
   "cell_type": "code",
   "execution_count": 22,
   "id": "02b8bf58",
   "metadata": {},
   "outputs": [
    {
     "data": {
      "image/png": "[encoded data removed]",
      "text/plain": [
       "<Figure size 432x288 with 1 Axes>"
      ]
     },
     "metadata": {
      "needs_background": "light"
     },
     "output_type": "display_data"
    },
    {
     "data": {
      "text/plain": [
       "<Figure size 1440x720 with 0 Axes>"
      ]
     },
     "metadata": {},
     "output_type": "display_data"
    }
   ],
   "source": [
    "plt.imshow(word_cloud, interpolation='bilinear')\n",
    "plt.axis(\"off\")\n",
    "plt.figure(figsize=[20,10])\n",
    "plt.show()"
   ]
  },
  {
   "cell_type": "code",
   "execution_count": 23,
   "id": "fc7a5032",
   "metadata": {},
   "outputs": [],
   "source": [
    "Positive_Review = round(vaders['Positive'].sum())"
   ]
  },
  {
   "cell_type": "code",
   "execution_count": 24,
   "id": "5d9bfac7",
   "metadata": {},
   "outputs": [],
   "source": [
    "Negative_Review = round(vaders['Negative'].sum())"
   ]
  },
  {
   "cell_type": "code",
   "execution_count": 25,
   "id": "f89e850e",
   "metadata": {},
   "outputs": [],
   "source": [
    "Neutral_Review = round(vaders['Neutral'].sum())"
   ]
  },
  {
   "cell_type": "code",
   "execution_count": 26,
   "id": "72385ab0",
   "metadata": {},
   "outputs": [],
   "source": [
    "Total_Review = vaders['ID'].count()"
   ]
  },
  {
   "cell_type": "code",
   "execution_count": 27,
   "id": "1d496fe0",
   "metadata": {},
   "outputs": [
    {
     "data": {
      "text/plain": [
       "1791"
      ]
     },
     "execution_count": 27,
     "metadata": {},
     "output_type": "execute_result"
    }
   ],
   "source": [
    "Positive_Review"
   ]
  },
  {
   "cell_type": "code",
   "execution_count": 28,
   "id": "4ea1e0e9",
   "metadata": {},
   "outputs": [
    {
     "data": {
      "text/plain": [
       "344"
      ]
     },
     "execution_count": 28,
     "metadata": {},
     "output_type": "execute_result"
    }
   ],
   "source": [
    "Negative_Review"
   ]
  },
  {
   "cell_type": "code",
   "execution_count": 29,
   "id": "03070092",
   "metadata": {},
   "outputs": [
    {
     "data": {
      "text/plain": [
       "4312"
      ]
     },
     "execution_count": 29,
     "metadata": {},
     "output_type": "execute_result"
    }
   ],
   "source": [
    "Neutral_Review"
   ]
  },
  {
   "cell_type": "code",
   "execution_count": 30,
   "id": "3a0abd12",
   "metadata": {},
   "outputs": [
    {
     "data": {
      "text/plain": [
       "6448"
      ]
     },
     "execution_count": 30,
     "metadata": {},
     "output_type": "execute_result"
    }
   ],
   "source": [
    "Total_Review"
   ]
  },
  {
   "cell_type": "code",
   "execution_count": 32,
   "id": "7c9d7b6d",
   "metadata": {},
   "outputs": [
    {
     "data": {
      "text/plain": [
       "27.77605459057072"
      ]
     },
     "execution_count": 32,
     "metadata": {},
     "output_type": "execute_result"
    }
   ],
   "source": [
    "Positive_Review*100/Total_Review"
   ]
  },
  {
   "cell_type": "code",
   "execution_count": 33,
   "id": "bf8b71ac",
   "metadata": {},
   "outputs": [
    {
     "data": {
      "text/plain": [
       "5.33498759305211"
      ]
     },
     "execution_count": 33,
     "metadata": {},
     "output_type": "execute_result"
    }
   ],
   "source": [
    "Negative_Review*100/Total_Review"
   ]
  },
  {
   "cell_type": "code",
   "execution_count": 34,
   "id": "f5adb135",
   "metadata": {},
   "outputs": [
    {
     "data": {
      "text/plain": [
       "66.87344913151365"
      ]
     },
     "execution_count": 34,
     "metadata": {},
     "output_type": "execute_result"
    }
   ],
   "source": [
    "Neutral_Review*100/Total_Review"
   ]
  },
  {
   "cell_type": "code",
   "execution_count": 35,
   "id": "07ae8cb9",
   "metadata": {
    "scrolled": true
   },
   "outputs": [
    {
     "name": "stdout",
     "output_type": "stream",
     "text": [
      "*** Reviews According to Percentage ***\n",
      "+-----------------+---------+--------------+\n",
      "| Sentiment       |   Count |   Percentage |\n",
      "+=================+=========+==============+\n",
      "| Positive_Review |    1791 |     27.7761  |\n",
      "+-----------------+---------+--------------+\n",
      "| Negative_Review |     344 |      5.33499 |\n",
      "+-----------------+---------+--------------+\n",
      "| Neutral_Review  |    4312 |     66.8734  |\n",
      "+-----------------+---------+--------------+\n"
     ]
    }
   ],
   "source": [
    "data = [['Positive_Review', 1791, 27.77605459057072] , ['Negative_Review' , 344, 5.33498759305211] , ['Neutral_Review' , 4312, 66.87344913151365]]\n",
    "head = ['Sentiment', 'Count', 'Percentage']\n",
    "\n",
    "\n",
    "print(\"*** Reviews According to Percentage ***\")\n",
    "t = tabulate(data, headers=head, tablefmt=\"grid\")\n",
    "print(t)"
   ]
  },
  {
   "cell_type": "code",
   "execution_count": 36,
   "id": "71768e0d",
   "metadata": {},
   "outputs": [],
   "source": [
    "v = vaders['Location'].value_counts().head(5)"
   ]
  },
  {
   "cell_type": "code",
   "execution_count": 37,
   "id": "de19a5a9",
   "metadata": {},
   "outputs": [
    {
     "name": "stderr",
     "output_type": "stream",
     "text": [
      "C:\\Users\\ASUS\\anaconda3\\lib\\site-packages\\seaborn\\_decorators.py:36: FutureWarning: Pass the following variables as keyword args: x, y. From version 0.12, the only valid positional argument will be `data`, and passing other arguments without an explicit keyword will result in an error or misinterpretation.\n",
      "  warnings.warn(\n"
     ]
    },
    {
     "data": {
      "image/png": "[encoded data removed]",
      "text/plain": [
       "<Figure size 1152x576 with 1 Axes>"
      ]
     },
     "metadata": {
      "needs_background": "light"
     },
     "output_type": "display_data"
    }
   ],
   "source": [
    "plt.figure(figsize = (16,8))\n",
    "sns.barplot(v[:5].index,v[:5],palette = 'viridis')\n",
    "plt.title('Reviews by Top 5 States')\n",
    "plt.xlabel('Location')\n",
    "plt.ylabel('Count')\n",
    "plt.xticks(rotation = 90)\n",
    "plt.show()"
   ]
  }
 ],
 "metadata": {
  "kernelspec": {
   "display_name": "Python 3 (ipykernel)",
   "language": "python",
   "name": "python3"
  },
  "language_info": {
   "codemirror_mode": {
    "name": "ipython",
    "version": 3
   },
   "file_extension": ".py",
   "mimetype": "text/x-python",
   "name": "python",
   "nbconvert_exporter": "python",
   "pygments_lexer": "ipython3",
   "version": "3.9.12"
  }
 },
 "nbformat": 4,
 "nbformat_minor": 5
}
